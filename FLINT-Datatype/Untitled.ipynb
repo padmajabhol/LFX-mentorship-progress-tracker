{
 "cells": [
  {
   "cell_type": "code",
   "execution_count": 32,
   "id": "1dd0e56e",
   "metadata": {},
   "outputs": [
    {
     "name": "stdout",
     "output_type": "stream",
     "text": [
      "Requirement already satisfied: GDAL==3.4.1 from file:///C:/Users/Inspiron/Desktop/moja-global/notebook/New%20folder/GDAL-3.4.1-cp39-cp39-win_amd64.whl in c:\\users\\inspiron\\desktop\\moja-global\\sphinxer\\additionalthemes\\env\\lib\\site-packages (3.4.1)\n",
      "Note: you may need to restart the kernel to use updated packages.\n"
     ]
    },
    {
     "name": "stderr",
     "output_type": "stream",
     "text": [
      "WARNING: You are using pip version 20.2.3; however, version 22.0.4 is available.\n",
      "You should consider upgrading via the 'C:\\Users\\Inspiron\\Desktop\\moja-global\\sphinxer\\additionalthemes\\env\\Scripts\\python.exe -m pip install --upgrade pip' command.\n"
     ]
    }
   ],
   "source": [
    "pip install GDAL-3.4.1-cp39-cp39-win_amd64.whl"
   ]
  },
  {
   "cell_type": "code",
   "execution_count": 33,
   "id": "6407f068",
   "metadata": {},
   "outputs": [
    {
     "name": "stdout",
     "output_type": "stream",
     "text": [
      "Requirement already satisfied: rasterio==1.2.10 from file:///C:/Users/Inspiron/Desktop/moja-global/notebook/New%20folder/rasterio-1.2.10-cp39-cp39-win_amd64.whl in c:\\users\\inspiron\\desktop\\moja-global\\sphinxer\\additionalthemes\\env\\lib\\site-packages (1.2.10)\n",
      "Requirement already satisfied: gdal~=3.4.1 in c:\\users\\inspiron\\desktop\\moja-global\\sphinxer\\additionalthemes\\env\\lib\\site-packages (from rasterio==1.2.10) (3.4.1)\n",
      "Requirement already satisfied: setuptools in c:\\users\\inspiron\\desktop\\moja-global\\sphinxer\\additionalthemes\\env\\lib\\site-packages (from rasterio==1.2.10) (49.2.1)\n",
      "Requirement already satisfied: cligj>=0.5 in c:\\users\\inspiron\\desktop\\moja-global\\sphinxer\\additionalthemes\\env\\lib\\site-packages (from rasterio==1.2.10) (0.7.2)\n",
      "Requirement already satisfied: snuggs>=1.4.1 in c:\\users\\inspiron\\desktop\\moja-global\\sphinxer\\additionalthemes\\env\\lib\\site-packages (from rasterio==1.2.10) (1.4.7)\n",
      "Requirement already satisfied: affine in c:\\users\\inspiron\\desktop\\moja-global\\sphinxer\\additionalthemes\\env\\lib\\site-packages (from rasterio==1.2.10) (2.3.0)\n",
      "Requirement already satisfied: certifi in c:\\users\\inspiron\\desktop\\moja-global\\sphinxer\\additionalthemes\\env\\lib\\site-packages (from rasterio==1.2.10) (2021.10.8)\n",
      "Requirement already satisfied: numpy in c:\\users\\inspiron\\desktop\\moja-global\\sphinxer\\additionalthemes\\env\\lib\\site-packages (from rasterio==1.2.10) (1.22.3)\n",
      "Requirement already satisfied: click-plugins in c:\\users\\inspiron\\desktop\\moja-global\\sphinxer\\additionalthemes\\env\\lib\\site-packages (from rasterio==1.2.10) (1.1.1)\n",
      "Requirement already satisfied: click>=4.0 in c:\\users\\inspiron\\desktop\\moja-global\\sphinxer\\additionalthemes\\env\\lib\\site-packages (from rasterio==1.2.10) (8.0.4)\n",
      "Requirement already satisfied: attrs in c:\\users\\inspiron\\desktop\\moja-global\\sphinxer\\additionalthemes\\env\\lib\\site-packages (from rasterio==1.2.10) (21.4.0)\n",
      "Requirement already satisfied: pyparsing>=2.1.6 in c:\\users\\inspiron\\desktop\\moja-global\\sphinxer\\additionalthemes\\env\\lib\\site-packages (from snuggs>=1.4.1->rasterio==1.2.10) (3.0.7)\n",
      "Requirement already satisfied: colorama; platform_system == \"Windows\" in c:\\users\\inspiron\\desktop\\moja-global\\sphinxer\\additionalthemes\\env\\lib\\site-packages (from click>=4.0->rasterio==1.2.10) (0.4.4)\n",
      "Note: you may need to restart the kernel to use updated packages.\n"
     ]
    },
    {
     "name": "stderr",
     "output_type": "stream",
     "text": [
      "WARNING: You are using pip version 20.2.3; however, version 22.0.4 is available.\n",
      "You should consider upgrading via the 'C:\\Users\\Inspiron\\Desktop\\moja-global\\sphinxer\\additionalthemes\\env\\Scripts\\python.exe -m pip install --upgrade pip' command.\n"
     ]
    }
   ],
   "source": [
    "pip install rasterio-1.2.10-cp39-cp39-win_amd64.whl"
   ]
  },
  {
   "cell_type": "code",
   "execution_count": 34,
   "id": "b37f8dc3",
   "metadata": {},
   "outputs": [
    {
     "name": "stdout",
     "output_type": "stream",
     "text": [
      "Requirement already satisfied: matplotlib in c:\\users\\inspiron\\desktop\\moja-global\\sphinxer\\additionalthemes\\env\\lib\\site-packages (3.5.1)\n",
      "Requirement already satisfied: packaging>=20.0 in c:\\users\\inspiron\\desktop\\moja-global\\sphinxer\\additionalthemes\\env\\lib\\site-packages (from matplotlib) (21.3)\n",
      "Requirement already satisfied: python-dateutil>=2.7 in c:\\users\\inspiron\\desktop\\moja-global\\sphinxer\\additionalthemes\\env\\lib\\site-packages (from matplotlib) (2.8.2)\n",
      "Note: you may need to restart the kernel to use updated packages.\n"
     ]
    },
    {
     "name": "stderr",
     "output_type": "stream",
     "text": [
      "WARNING: You are using pip version 20.2.3; however, version 22.0.4 is available.\n",
      "You should consider upgrading via the 'C:\\Users\\Inspiron\\Desktop\\moja-global\\sphinxer\\additionalthemes\\env\\Scripts\\python.exe -m pip install --upgrade pip' command.\n"
     ]
    },
    {
     "name": "stdout",
     "output_type": "stream",
     "text": [
      "Requirement already satisfied: fonttools>=4.22.0 in c:\\users\\inspiron\\desktop\\moja-global\\sphinxer\\additionalthemes\\env\\lib\\site-packages (from matplotlib) (4.30.0)\n",
      "Requirement already satisfied: pillow>=6.2.0 in c:\\users\\inspiron\\desktop\\moja-global\\sphinxer\\additionalthemes\\env\\lib\\site-packages (from matplotlib) (9.0.1)\n",
      "Requirement already satisfied: numpy>=1.17 in c:\\users\\inspiron\\desktop\\moja-global\\sphinxer\\additionalthemes\\env\\lib\\site-packages (from matplotlib) (1.22.3)\n",
      "Requirement already satisfied: pyparsing>=2.2.1 in c:\\users\\inspiron\\desktop\\moja-global\\sphinxer\\additionalthemes\\env\\lib\\site-packages (from matplotlib) (3.0.7)\n",
      "Requirement already satisfied: kiwisolver>=1.0.1 in c:\\users\\inspiron\\desktop\\moja-global\\sphinxer\\additionalthemes\\env\\lib\\site-packages (from matplotlib) (1.3.2)\n",
      "Requirement already satisfied: cycler>=0.10 in c:\\users\\inspiron\\desktop\\moja-global\\sphinxer\\additionalthemes\\env\\lib\\site-packages (from matplotlib) (0.11.0)\n",
      "Requirement already satisfied: six>=1.5 in c:\\users\\inspiron\\desktop\\moja-global\\sphinxer\\additionalthemes\\env\\lib\\site-packages (from python-dateutil>=2.7->matplotlib) (1.16.0)\n"
     ]
    }
   ],
   "source": [
    "pip install matplotlib"
   ]
  },
  {
   "cell_type": "code",
   "execution_count": 35,
   "id": "572819f5",
   "metadata": {},
   "outputs": [
    {
     "name": "stdout",
     "output_type": "stream",
     "text": [
      "Requirement already satisfied: numpy in c:\\users\\inspiron\\desktop\\moja-global\\sphinxer\\additionalthemes\\env\\lib\\site-packages (1.22.3)\n",
      "Note: you may need to restart the kernel to use updated packages.\n"
     ]
    },
    {
     "name": "stderr",
     "output_type": "stream",
     "text": [
      "WARNING: You are using pip version 20.2.3; however, version 22.0.4 is available.\n",
      "You should consider upgrading via the 'C:\\Users\\Inspiron\\Desktop\\moja-global\\sphinxer\\additionalthemes\\env\\Scripts\\python.exe -m pip install --upgrade pip' command.\n"
     ]
    }
   ],
   "source": [
    "pip install numpy"
   ]
  },
  {
   "cell_type": "code",
   "execution_count": 43,
   "id": "7bc3c3d7",
   "metadata": {},
   "outputs": [],
   "source": [
    "import rasterio\n",
    "from rasterio.plot import show\n",
    "import matplotlib.pyplot as plt\n",
    "import numpy as np"
   ]
  },
  {
   "cell_type": "code",
   "execution_count": 127,
   "id": "531b8190",
   "metadata": {},
   "outputs": [
    {
     "data": {
      "image/png": "[encoded data removed]",
      "text/plain": [
       "<Figure size 432x288 with 1 Axes>"
      ]
     },
     "metadata": {
      "needs_background": "light"
     },
     "output_type": "display_data"
    },
    {
     "name": "stdout",
     "output_type": "stream",
     "text": [
      "1\n",
      "4000 4000\n",
      "EPSG:4326\n",
      "255.0\n",
      "1\n",
      "(4000, 4000)\n",
      "[[0 0 0 ... 0 0 0]\n",
      " [0 0 0 ... 0 0 0]\n",
      " [0 0 0 ... 0 0 0]\n",
      " ...\n",
      " [0 0 0 ... 0 0 0]\n",
      " [0 0 0 ... 0 0 0]\n",
      " [0 0 0 ... 0 0 0]]\n",
      "zoom-in : [[255 255 255 ... 255 255 255]\n",
      " [255 255 255 ... 255 255 255]\n",
      " [255 255 255 ... 255 255 255]\n",
      " ...\n",
      " [  0   0   0 ...   0   0   0]\n",
      " [  0   0   0 ...   0   0   0]\n",
      " [  0   0   0 ...   0   0   0]]\n"
     ]
    },
    {
     "data": {
      "image/png": "[encoded data removed]",
      "text/plain": [
       "<Figure size 432x288 with 1 Axes>"
      ]
     },
     "metadata": {
      "needs_background": "light"
     },
     "output_type": "display_data"
    },
    {
     "data": {
      "text/plain": [
       "<AxesSubplot:>"
      ]
     },
     "execution_count": 127,
     "metadata": {},
     "output_type": "execute_result"
    }
   ],
   "source": [
    "fp2 = r'Classifier1_moja.tiff'\n",
    "img2 = rasterio.open(fp2)\n",
    "show(img2)\n",
    "#No. of bands\n",
    "print(img2.count)\n",
    "\n",
    "#Image resolution\n",
    "print(img2.height, img2.width)\n",
    "\n",
    "# CRS\n",
    "print(img2.crs)\n",
    "\n",
    "# No-data\n",
    "print(img2.nodata)\n",
    "\n",
    "# Raster bands\n",
    "print(img2.count)\n",
    "\n",
    "msk = img2.read_masks(1)\n",
    "print(msk.shape)\n",
    "print(msk)\n",
    "x = msk\n",
    "# print(\"indices with non-zero elements: \",np.nonzero(x))\n",
    "print(\"zoom-in :\", msk[2065:2140, 550:650])\n",
    "show(msk[2045:2140, 500:690])"
   ]
  },
  {
   "cell_type": "code",
   "execution_count": null,
   "id": "0d09b177",
   "metadata": {},
   "outputs": [],
   "source": []
  }
 ],
 "metadata": {
  "kernelspec": {
   "display_name": "Python 3 (ipykernel)",
   "language": "python",
   "name": "python3"
  },
  "language_info": {
   "codemirror_mode": {
    "name": "ipython",
    "version": 3
   },
   "file_extension": ".py",
   "mimetype": "text/x-python",
   "name": "python",
   "nbconvert_exporter": "python",
   "pygments_lexer": "ipython3",
   "version": "3.9.0"
  }
 },
 "nbformat": 4,
 "nbformat_minor": 5
}
