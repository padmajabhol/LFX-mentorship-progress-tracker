{
 "cells": [
  {
   "cell_type": "code",
   "execution_count": 1,
   "id": "8e7aea3b",
   "metadata": {},
   "outputs": [
    {
     "name": "stdout",
     "output_type": "stream",
     "text": [
      "Note: you may need to restart the kernel to use updated packages.\n"
     ]
    },
    {
     "name": "stderr",
     "output_type": "stream",
     "text": [
      "WARNING: You are using pip version 20.2.3; however, version 22.0.4 is available.\n",
      "You should consider upgrading via the 'C:\\Users\\Inspiron\\Desktop\\moja-global\\sphinxer\\additionalthemes\\env\\Scripts\\python.exe -m pip install --upgrade pip' command.\n"
     ]
    },
    {
     "name": "stdout",
     "output_type": "stream",
     "text": [
      "Requirement already satisfied: GDAL==3.4.1 from file:///C:/Users/Inspiron/Desktop/moja-global/notebook/New%20folder/GDAL-3.4.1-cp39-cp39-win_amd64.whl in c:\\users\\inspiron\\desktop\\moja-global\\sphinxer\\additionalthemes\\env\\lib\\site-packages (3.4.1)\n"
     ]
    }
   ],
   "source": [
    "pip install GDAL-3.4.1-cp39-cp39-win_amd64.whl"
   ]
  },
  {
   "cell_type": "code",
   "execution_count": 2,
   "id": "80a6e8b3",
   "metadata": {},
   "outputs": [
    {
     "name": "stdout",
     "output_type": "stream",
     "text": [
      "Requirement already satisfied: rasterio==1.2.10 from file:///C:/Users/Inspiron/Desktop/moja-global/notebook/New%20folder/rasterio-1.2.10-cp39-cp39-win_amd64.whl in c:\\users\\inspiron\\desktop\\moja-global\\sphinxer\\additionalthemes\\env\\lib\\site-packages (1.2.10)\n",
      "Requirement already satisfied: affine in c:\\users\\inspiron\\desktop\\moja-global\\sphinxer\\additionalthemes\\env\\lib\\site-packages (from rasterio==1.2.10) (2.3.0)\n",
      "Requirement already satisfied: cligj>=0.5 in c:\\users\\inspiron\\desktop\\moja-global\\sphinxer\\additionalthemes\\env\\lib\\site-packages (from rasterio==1.2.10) (0.7.2)\n",
      "Requirement already satisfied: gdal~=3.4.1 in c:\\users\\inspiron\\desktop\\moja-global\\sphinxer\\additionalthemes\\env\\lib\\site-packages (from rasterio==1.2.10) (3.4.1)\n",
      "Requirement already satisfied: click>=4.0 in c:\\users\\inspiron\\desktop\\moja-global\\sphinxer\\additionalthemes\\env\\lib\\site-packages (from rasterio==1.2.10) (8.0.4)\n",
      "Requirement already satisfied: snuggs>=1.4.1 in c:\\users\\inspiron\\desktop\\moja-global\\sphinxer\\additionalthemes\\env\\lib\\site-packages (from rasterio==1.2.10) (1.4.7)\n",
      "Requirement already satisfied: numpy in c:\\users\\inspiron\\desktop\\moja-global\\sphinxer\\additionalthemes\\env\\lib\\site-packages (from rasterio==1.2.10) (1.22.3)\n",
      "Requirement already satisfied: setuptools in c:\\users\\inspiron\\desktop\\moja-global\\sphinxer\\additionalthemes\\env\\lib\\site-packages (from rasterio==1.2.10) (49.2.1)\n",
      "Requirement already satisfied: click-plugins in c:\\users\\inspiron\\desktop\\moja-global\\sphinxer\\additionalthemes\\env\\lib\\site-packages (from rasterio==1.2.10) (1.1.1)\n",
      "Requirement already satisfied: certifi in c:\\users\\inspiron\\desktop\\moja-global\\sphinxer\\additionalthemes\\env\\lib\\site-packages (from rasterio==1.2.10) (2021.10.8)\n",
      "Requirement already satisfied: attrs in c:\\users\\inspiron\\desktop\\moja-global\\sphinxer\\additionalthemes\\env\\lib\\site-packages (from rasterio==1.2.10) (21.4.0)\n",
      "Requirement already satisfied: colorama; platform_system == \"Windows\" in c:\\users\\inspiron\\desktop\\moja-global\\sphinxer\\additionalthemes\\env\\lib\\site-packages (from click>=4.0->rasterio==1.2.10) (0.4.4)\n",
      "Requirement already satisfied: pyparsing>=2.1.6 in c:\\users\\inspiron\\desktop\\moja-global\\sphinxer\\additionalthemes\\env\\lib\\site-packages (from snuggs>=1.4.1->rasterio==1.2.10) (3.0.7)\n",
      "Note: you may need to restart the kernel to use updated packages.\n"
     ]
    },
    {
     "name": "stderr",
     "output_type": "stream",
     "text": [
      "WARNING: You are using pip version 20.2.3; however, version 22.0.4 is available.\n",
      "You should consider upgrading via the 'C:\\Users\\Inspiron\\Desktop\\moja-global\\sphinxer\\additionalthemes\\env\\Scripts\\python.exe -m pip install --upgrade pip' command.\n"
     ]
    }
   ],
   "source": [
    "pip install rasterio-1.2.10-cp39-cp39-win_amd64.whl"
   ]
  },
  {
   "cell_type": "code",
   "execution_count": 3,
   "id": "4a91f640",
   "metadata": {},
   "outputs": [
    {
     "name": "stdout",
     "output_type": "stream",
     "text": [
      "Requirement already satisfied: matplotlib in c:\\users\\inspiron\\desktop\\moja-global\\sphinxer\\additionalthemes\\env\\lib\\site-packages (3.5.1)\n",
      "Requirement already satisfied: cycler>=0.10 in c:\\users\\inspiron\\desktop\\moja-global\\sphinxer\\additionalthemes\\env\\lib\\site-packages (from matplotlib) (0.11.0)\n",
      "Requirement already satisfied: numpy>=1.17 in c:\\users\\inspiron\\desktop\\moja-global\\sphinxer\\additionalthemes\\env\\lib\\site-packages (from matplotlib) (1.22.3)\n",
      "Requirement already satisfied: fonttools>=4.22.0 in c:\\users\\inspiron\\desktop\\moja-global\\sphinxer\\additionalthemes\\env\\lib\\site-packages (from matplotlib) (4.30.0)\n",
      "Requirement already satisfied: python-dateutil>=2.7 in c:\\users\\inspiron\\desktop\\moja-global\\sphinxer\\additionalthemes\\env\\lib\\site-packages (from matplotlib) (2.8.2)\n",
      "Requirement already satisfied: pyparsing>=2.2.1 in c:\\users\\inspiron\\desktop\\moja-global\\sphinxer\\additionalthemes\\env\\lib\\site-packages (from matplotlib) (3.0.7)\n",
      "Requirement already satisfied: kiwisolver>=1.0.1 in c:\\users\\inspiron\\desktop\\moja-global\\sphinxer\\additionalthemes\\env\\lib\\site-packages (from matplotlib) (1.3.2)\n",
      "Requirement already satisfied: pillow>=6.2.0 in c:\\users\\inspiron\\desktop\\moja-global\\sphinxer\\additionalthemes\\env\\lib\\site-packages (from matplotlib) (9.0.1)\n",
      "Requirement already satisfied: packaging>=20.0 in c:\\users\\inspiron\\desktop\\moja-global\\sphinxer\\additionalthemes\\env\\lib\\site-packages (from matplotlib) (21.3)\n",
      "Requirement already satisfied: six>=1.5 in c:\\users\\inspiron\\desktop\\moja-global\\sphinxer\\additionalthemes\\env\\lib\\site-packages (from python-dateutil>=2.7->matplotlib) (1.16.0)\n",
      "Note: you may need to restart the kernel to use updated packages.\n"
     ]
    },
    {
     "name": "stderr",
     "output_type": "stream",
     "text": [
      "WARNING: You are using pip version 20.2.3; however, version 22.0.4 is available.\n",
      "You should consider upgrading via the 'C:\\Users\\Inspiron\\Desktop\\moja-global\\sphinxer\\additionalthemes\\env\\Scripts\\python.exe -m pip install --upgrade pip' command.\n"
     ]
    }
   ],
   "source": [
    "pip install matplotlib"
   ]
  },
  {
   "cell_type": "code",
   "execution_count": 4,
   "id": "528c1c19",
   "metadata": {},
   "outputs": [],
   "source": [
    "import rasterio\n",
    "from rasterio.plot import show\n",
    "import matplotlib.pyplot as plt"
   ]
  },
  {
   "cell_type": "code",
   "execution_count": 24,
   "id": "75c7137e",
   "metadata": {},
   "outputs": [
    {
     "data": {
      "image/png": "[encoded data removed]",
      "text/plain": [
       "<Figure size 432x288 with 1 Axes>"
      ]
     },
     "metadata": {
      "needs_background": "light"
     },
     "output_type": "display_data"
    },
    {
     "name": "stdout",
     "output_type": "stream",
     "text": [
      "1\n",
      "85 178\n",
      "EPSG:4326\n",
      "255.0\n",
      "1\n"
     ]
    }
   ],
   "source": [
    "fp = r'bounding_box.tiff'\n",
    "img = rasterio.open(fp)\n",
    "show(img)\n",
    "#No. of bands\n",
    "print(img.count)\n",
    "\n",
    "#Image resolution\n",
    "print(img.height, img.width)\n",
    "\n",
    "# CRS\n",
    "print(img.crs)\n",
    "\n",
    "# No-data\n",
    "print(img.nodata)\n",
    "\n",
    "# Raster bands\n",
    "print(img.count)"
   ]
  },
  {
   "cell_type": "code",
   "execution_count": 40,
   "id": "eb0ab0b7",
   "metadata": {},
   "outputs": [
    {
     "data": {
      "image/png": "[encoded data removed]",
      "text/plain": [
       "<Figure size 432x288 with 1 Axes>"
      ]
     },
     "metadata": {
      "needs_background": "light"
     },
     "output_type": "display_data"
    },
    {
     "name": "stdout",
     "output_type": "stream",
     "text": [
      "1\n",
      "4000 4000\n",
      "EPSG:4326\n",
      "255.0\n",
      "1\n"
     ]
    }
   ],
   "source": [
    "fp2 = r'Classifier1_moja.tiff'\n",
    "img2 = rasterio.open(fp2)\n",
    "show(img2)\n",
    "#No. of bands\n",
    "print(img2.count)\n",
    "\n",
    "#Image resolution\n",
    "print(img2.height, img2.width)\n",
    "\n",
    "# CRS\n",
    "print(img2.crs)\n",
    "\n",
    "# No-data\n",
    "print(img2.nodata)\n",
    "\n",
    "# Raster bands\n",
    "print(img2.count)"
   ]
  },
  {
   "cell_type": "code",
   "execution_count": 41,
   "id": "26c518f7",
   "metadata": {},
   "outputs": [
    {
     "data": {
      "image/png": "[encoded data removed]",
      "text/plain": [
       "<Figure size 432x288 with 1 Axes>"
      ]
     },
     "metadata": {
      "needs_background": "light"
     },
     "output_type": "display_data"
    },
    {
     "name": "stdout",
     "output_type": "stream",
     "text": [
      "1\n",
      "4000 4000\n",
      "EPSG:4326\n",
      "255.0\n",
      "1\n"
     ]
    }
   ],
   "source": [
    "fp3 = r'Classifier1_moja.tiff'\n",
    "img3 = rasterio.open(fp3)\n",
    "show(img3)\n",
    "#No. of bands\n",
    "print(img3.count)\n",
    "\n",
    "#Image resolution\n",
    "print(img3.height, img3.width)\n",
    "\n",
    "# CRS\n",
    "print(img3.crs)\n",
    "\n",
    "# No-data\n",
    "print(img3.nodata)\n",
    "\n",
    "# Raster bands\n",
    "print(img3.count)"
   ]
  },
  {
   "cell_type": "code",
   "execution_count": 42,
   "id": "025afc2e",
   "metadata": {},
   "outputs": [
    {
     "data": {
      "image/png": "[encoded data removed]",
      "text/plain": [
       "<Figure size 432x288 with 1 Axes>"
      ]
     },
     "metadata": {
      "needs_background": "light"
     },
     "output_type": "display_data"
    },
    {
     "name": "stdout",
     "output_type": "stream",
     "text": [
      "1\n",
      "4000 4000\n",
      "EPSG:4326\n",
      "255.0\n",
      "1\n"
     ]
    }
   ],
   "source": [
    "fp4 = r'disturbances_2011_moja.tiff'\n",
    "img4 = rasterio.open(fp4)\n",
    "show(img4)\n",
    "#No. of bands\n",
    "print(img4.count)\n",
    "\n",
    "#Image resolution\n",
    "print(img4.height, img4.width)\n",
    "\n",
    "# CRS\n",
    "print(img4.crs)\n",
    "\n",
    "# No-data\n",
    "print(img4.nodata)\n",
    "\n",
    "# Raster bands\n",
    "print(img4.count)"
   ]
  },
  {
   "cell_type": "code",
   "execution_count": 44,
   "id": "01e4c080",
   "metadata": {
    "scrolled": false
   },
   "outputs": [
    {
     "data": {
      "image/png": "[encoded data removed]",
      "text/plain": [
       "<Figure size 432x288 with 1 Axes>"
      ]
     },
     "metadata": {
      "needs_background": "light"
     },
     "output_type": "display_data"
    },
    {
     "name": "stdout",
     "output_type": "stream",
     "text": [
      "1\n",
      "4000 4000\n",
      "EPSG:4326\n",
      "255.0\n",
      "1\n"
     ]
    }
   ],
   "source": [
    "fp5 = r'disturbances_2012_moja.tiff'\n",
    "img5 = rasterio.open(fp5)\n",
    "show(img5)\n",
    "#No. of bands\n",
    "print(img5.count)\n",
    "\n",
    "#Image resolution\n",
    "print(img5.height, img5.width)\n",
    "\n",
    "# CRS\n",
    "print(img5.crs)\n",
    "\n",
    "# No-data\n",
    "print(img5.nodata)\n",
    "\n",
    "# Raster bands\n",
    "print(img5.count)"
   ]
  },
  {
   "cell_type": "code",
   "execution_count": 45,
   "id": "c271b662",
   "metadata": {},
   "outputs": [
    {
     "data": {
      "image/png": "[encoded data removed]",
      "text/plain": [
       "<Figure size 432x288 with 1 Axes>"
      ]
     },
     "metadata": {
      "needs_background": "light"
     },
     "output_type": "display_data"
    },
    {
     "name": "stdout",
     "output_type": "stream",
     "text": [
      "1\n",
      "4000 4000\n",
      "EPSG:4326\n",
      "255.0\n",
      "1\n"
     ]
    }
   ],
   "source": [
    "fp6 = r'disturbances_2013_moja.tiff'\n",
    "img6 = rasterio.open(fp6)\n",
    "show(img6)\n",
    "#No. of bands\n",
    "print(img6.count)\n",
    "\n",
    "#Image resolution\n",
    "print(img6.height, img6.width)\n",
    "\n",
    "# CRS\n",
    "print(img6.crs)\n",
    "\n",
    "# No-data\n",
    "print(img6.nodata)\n",
    "\n",
    "# Raster bands\n",
    "print(img6.count)"
   ]
  },
  {
   "cell_type": "code",
   "execution_count": 46,
   "id": "4e1ed0c7",
   "metadata": {
    "scrolled": true
   },
   "outputs": [
    {
     "data": {
      "image/png": "[encoded data removed]",
      "text/plain": [
       "<Figure size 432x288 with 1 Axes>"
      ]
     },
     "metadata": {
      "needs_background": "light"
     },
     "output_type": "display_data"
    },
    {
     "name": "stdout",
     "output_type": "stream",
     "text": [
      "1\n",
      "4000 4000\n",
      "EPSG:4326\n",
      "255.0\n",
      "1\n"
     ]
    }
   ],
   "source": [
    "fp7 = r'disturbances_2014_moja.tiff'\n",
    "img = rasterio.open(fp7)\n",
    "show(img)\n",
    "#No. of bands\n",
    "print(img.count)\n",
    "\n",
    "#Image resolution\n",
    "print(img.height, img.width)\n",
    "\n",
    "# CRS\n",
    "print(img.crs)\n",
    "\n",
    "# No-data\n",
    "print(img.nodata)\n",
    "\n",
    "# Raster bands\n",
    "print(img.count)"
   ]
  },
  {
   "cell_type": "code",
   "execution_count": 47,
   "id": "a4b1907b",
   "metadata": {},
   "outputs": [
    {
     "data": {
      "image/png": "[encoded data removed]",
      "text/plain": [
       "<Figure size 432x288 with 1 Axes>"
      ]
     },
     "metadata": {
      "needs_background": "light"
     },
     "output_type": "display_data"
    },
    {
     "name": "stdout",
     "output_type": "stream",
     "text": [
      "1\n",
      "4000 4000\n",
      "EPSG:4326\n",
      "255.0\n",
      "1\n"
     ]
    }
   ],
   "source": [
    "fp8 = r'disturbances_2015_moja.tiff'\n",
    "img = rasterio.open(fp8)\n",
    "show(img)\n",
    "#No. of bands\n",
    "print(img.count)\n",
    "\n",
    "#Image resolution\n",
    "print(img.height, img.width)\n",
    "\n",
    "# CRS\n",
    "print(img.crs)\n",
    "\n",
    "# No-data\n",
    "print(img.nodata)\n",
    "\n",
    "# Raster bands\n",
    "print(img.count)"
   ]
  },
  {
   "cell_type": "code",
   "execution_count": 48,
   "id": "5dcdf880",
   "metadata": {},
   "outputs": [
    {
     "data": {
      "image/png": "[encoded data removed]",
      "text/plain": [
       "<Figure size 432x288 with 1 Axes>"
      ]
     },
     "metadata": {
      "needs_background": "light"
     },
     "output_type": "display_data"
    },
    {
     "name": "stdout",
     "output_type": "stream",
     "text": [
      "1\n",
      "4000 4000\n",
      "EPSG:4326\n",
      "255.0\n",
      "1\n"
     ]
    }
   ],
   "source": [
    "fp9 = r'disturbances_2016_moja.tiff'\n",
    "img = rasterio.open(fp9)\n",
    "show(img)\n",
    "#No. of bands\n",
    "print(img.count)\n",
    "\n",
    "#Image resolution\n",
    "print(img.height, img.width)\n",
    "\n",
    "# CRS\n",
    "print(img.crs)\n",
    "\n",
    "# No-data\n",
    "print(img.nodata)\n",
    "\n",
    "# Raster bands\n",
    "print(img.count)"
   ]
  },
  {
   "cell_type": "code",
   "execution_count": 50,
   "id": "7e22ccf8",
   "metadata": {},
   "outputs": [
    {
     "data": {
      "image/png": "[encoded data removed]",
      "text/plain": [
       "<Figure size 432x288 with 1 Axes>"
      ]
     },
     "metadata": {
      "needs_background": "light"
     },
     "output_type": "display_data"
    },
    {
     "name": "stdout",
     "output_type": "stream",
     "text": [
      "1\n",
      "4000 4000\n",
      "EPSG:4326\n",
      "255.0\n",
      "1\n"
     ]
    }
   ],
   "source": [
    "fp10 = r'disturbances_2018_moja.tiff'\n",
    "img = rasterio.open(fp10)\n",
    "show(img)\n",
    "#No. of bands\n",
    "print(img.count)\n",
    "\n",
    "#Image resolution\n",
    "print(img.height, img.width)\n",
    "\n",
    "# CRS\n",
    "print(img.crs)\n",
    "\n",
    "# No-data\n",
    "print(img.nodata)\n",
    "\n",
    "# Raster bands\n",
    "print(img.count)"
   ]
  },
  {
   "cell_type": "code",
   "execution_count": 52,
   "id": "a8b0c09a",
   "metadata": {},
   "outputs": [
    {
     "data": {
      "image/png": "[encoded data removed]",
      "text/plain": [
       "<Figure size 432x288 with 1 Axes>"
      ]
     },
     "metadata": {
      "needs_background": "light"
     },
     "output_type": "display_data"
    },
    {
     "name": "stdout",
     "output_type": "stream",
     "text": [
      "1\n",
      "4000 4000\n",
      "EPSG:4326\n",
      "32767.0\n",
      "1\n"
     ]
    }
   ],
   "source": [
    "fp11 = r'initial_age_moja.tiff'\n",
    "img = rasterio.open(fp11)\n",
    "show(img)\n",
    "#No. of bands\n",
    "print(img.count)\n",
    "\n",
    "#Image resolution\n",
    "print(img.height, img.width)\n",
    "\n",
    "# CRS\n",
    "print(img.crs)\n",
    "\n",
    "# No-data\n",
    "print(img.nodata)\n",
    "\n",
    "# Raster bands\n",
    "print(img.count)"
   ]
  },
  {
   "cell_type": "code",
   "execution_count": 53,
   "id": "bb9cef06",
   "metadata": {},
   "outputs": [
    {
     "data": {
      "image/png": "[encoded data removed]",
      "text/plain": [
       "<Figure size 432x288 with 1 Axes>"
      ]
     },
     "metadata": {
      "needs_background": "light"
     },
     "output_type": "display_data"
    },
    {
     "name": "stdout",
     "output_type": "stream",
     "text": [
      "1\n",
      "4000 4000\n",
      "EPSG:4326\n",
      "3.3999999521443642e+38\n",
      "1\n"
     ]
    }
   ],
   "source": [
    "fp12 = r'mean_annual_temperature_moja.tiff'\n",
    "img = rasterio.open(fp12)\n",
    "show(img)\n",
    "#No. of bands\n",
    "print(img.count)\n",
    "\n",
    "#Image resolution\n",
    "print(img.height, img.width)\n",
    "\n",
    "# CRS\n",
    "print(img.crs)\n",
    "\n",
    "# No-data\n",
    "print(img.nodata)\n",
    "\n",
    "# Raster bands\n",
    "print(img.count)"
   ]
  }
 ],
 "metadata": {
  "kernelspec": {
   "display_name": "Python 3 (ipykernel)",
   "language": "python",
   "name": "python3"
  },
  "language_info": {
   "codemirror_mode": {
    "name": "ipython",
    "version": 3
   },
   "file_extension": ".py",
   "mimetype": "text/x-python",
   "name": "python",
   "nbconvert_exporter": "python",
   "pygments_lexer": "ipython3",
   "version": "3.9.0"
  }
 },
 "nbformat": 4,
 "nbformat_minor": 5
}
