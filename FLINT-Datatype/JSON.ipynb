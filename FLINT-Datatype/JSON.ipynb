{
 "cells": [
  {
   "cell_type": "markdown",
   "id": "91cd849f",
   "metadata": {},
   "source": [
    "## JSON File\n",
    "A JSON file stores simple data structures and objects in Javascript.\n",
    "\n",
    "To open a json data into python using jupyter notebook, follow these steps:"
   ]
  },
  {
   "cell_type": "markdown",
   "id": "98f499ca",
   "metadata": {},
   "source": [
    "1. Import the JSON module"
   ]
  },
  {
   "cell_type": "code",
   "execution_count": 14,
   "id": "b6faacef",
   "metadata": {},
   "outputs": [],
   "source": [
    "import json"
   ]
  },
  {
   "cell_type": "markdown",
   "id": "2148bdc9",
   "metadata": {},
   "source": [
    "2. Copy the file path of your JSON file and pass it as a parameter to the open() method"
   ]
  },
  {
   "cell_type": "code",
   "execution_count": 17,
   "id": "d43ca258",
   "metadata": {},
   "outputs": [],
   "source": [
    "with open(\"LifeZone_moja.json\") as f:\n",
    "      data = json.load(f)"
   ]
  },
  {
   "cell_type": "code",
   "execution_count": 16,
   "id": "9acf589b",
   "metadata": {},
   "outputs": [
    {
     "data": {
      "text/plain": [
       "{'layer_type': 'GridLayer',\n",
       " 'layer_data': 'Byte',\n",
       " 'nodata': 255,\n",
       " 'tileLatSize': 1.0,\n",
       " 'tileLonSize': 1.0,\n",
       " 'blockLatSize': 0.1,\n",
       " 'blockLonSize': 0.1,\n",
       " 'cellLatSize': 0.01,\n",
       " 'cellLonSize': 0.01,\n",
       " 'attributes': {'1': 'Tropical Dry',\n",
       "  '2': 'Tropical Moist',\n",
       "  '3': 'Tropical Premontane Wet, Transition to Basal - Pacific'}}"
      ]
     },
     "execution_count": 16,
     "metadata": {},
     "output_type": "execute_result"
    }
   ],
   "source": [
    "data"
   ]
  },
  {
   "cell_type": "code",
   "execution_count": null,
   "id": "9cba0f38",
   "metadata": {},
   "outputs": [],
   "source": [
    "You can now view the JSON data"
   ]
  }
 ],
 "metadata": {
  "kernelspec": {
   "display_name": "Python 3 (ipykernel)",
   "language": "python",
   "name": "python3"
  },
  "language_info": {
   "codemirror_mode": {
    "name": "ipython",
    "version": 3
   },
   "file_extension": ".py",
   "mimetype": "text/x-python",
   "name": "python",
   "nbconvert_exporter": "python",
   "pygments_lexer": "ipython3",
   "version": "3.9.7"
  }
 },
 "nbformat": 4,
 "nbformat_minor": 5
}
