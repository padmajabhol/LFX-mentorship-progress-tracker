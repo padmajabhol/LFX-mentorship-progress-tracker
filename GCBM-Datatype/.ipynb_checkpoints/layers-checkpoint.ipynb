{
 "cells": [
  {
   "cell_type": "code",
   "execution_count": 5,
   "id": "4a91f640",
   "metadata": {
    "scrolled": false
   },
   "outputs": [
    {
     "name": "stdout",
     "output_type": "stream",
     "text": [
      "Requirement already satisfied: matplotlib in /home/padmajabhol/anaconda3/lib/python3.8/site-packages (3.3.4)\n",
      "Requirement already satisfied: numpy>=1.15 in /home/padmajabhol/anaconda3/lib/python3.8/site-packages (from matplotlib) (1.20.1)\n",
      "Requirement already satisfied: pillow>=6.2.0 in /home/padmajabhol/anaconda3/lib/python3.8/site-packages (from matplotlib) (8.2.0)\n",
      "Requirement already satisfied: pyparsing!=2.0.4,!=2.1.2,!=2.1.6,>=2.0.3 in /home/padmajabhol/anaconda3/lib/python3.8/site-packages (from matplotlib) (2.4.7)\n",
      "Requirement already satisfied: cycler>=0.10 in /home/padmajabhol/anaconda3/lib/python3.8/site-packages (from matplotlib) (0.10.0)\n",
      "Requirement already satisfied: kiwisolver>=1.0.1 in /home/padmajabhol/anaconda3/lib/python3.8/site-packages (from matplotlib) (1.3.1)\n",
      "Requirement already satisfied: python-dateutil>=2.1 in /home/padmajabhol/anaconda3/lib/python3.8/site-packages (from matplotlib) (2.8.1)\n",
      "Requirement already satisfied: six in /home/padmajabhol/anaconda3/lib/python3.8/site-packages (from cycler>=0.10->matplotlib) (1.15.0)\n",
      "Note: you may need to restart the kernel to use updated packages.\n"
     ]
    }
   ],
   "source": [
    "pip install matplotlib"
   ]
  },
  {
   "cell_type": "code",
   "execution_count": 6,
   "id": "1d260662",
   "metadata": {},
   "outputs": [
    {
     "name": "stdout",
     "output_type": "stream",
     "text": [
      "Requirement already satisfied: Shapely in /home/padmajabhol/anaconda3/lib/python3.8/site-packages (1.8.2)\n",
      "Note: you may need to restart the kernel to use updated packages.\n"
     ]
    }
   ],
   "source": [
    "pip install Shapely"
   ]
  },
  {
   "cell_type": "code",
   "execution_count": 9,
   "id": "5aa8f375",
   "metadata": {},
   "outputs": [],
   "source": [
    "import rasterio as rst\n",
    "from rasterio.plot import show\n",
    "import matplotlib.pyplot as plt\n",
    "import numpy as np"
   ]
  },
  {
   "cell_type": "code",
   "execution_count": 10,
   "id": "75c7137e",
   "metadata": {},
   "outputs": [
    {
     "ename": "NameError",
     "evalue": "name 'rasterio' is not defined",
     "output_type": "error",
     "traceback": [
      "\u001b[0;31m---------------------------------------------------------------------------\u001b[0m",
      "\u001b[0;31mNameError\u001b[0m                                 Traceback (most recent call last)",
      "\u001b[0;32m<ipython-input-10-8eefb368eef5>\u001b[0m in \u001b[0;36m<module>\u001b[0;34m\u001b[0m\n\u001b[1;32m      1\u001b[0m \u001b[0mfp\u001b[0m \u001b[0;34m=\u001b[0m \u001b[0;34mr'bounding_box.tiff'\u001b[0m\u001b[0;34m\u001b[0m\u001b[0;34m\u001b[0m\u001b[0m\n\u001b[0;32m----> 2\u001b[0;31m \u001b[0mimg\u001b[0m \u001b[0;34m=\u001b[0m \u001b[0mrasterio\u001b[0m\u001b[0;34m.\u001b[0m\u001b[0mopen\u001b[0m\u001b[0;34m(\u001b[0m\u001b[0mfp\u001b[0m\u001b[0;34m)\u001b[0m\u001b[0;34m\u001b[0m\u001b[0;34m\u001b[0m\u001b[0m\n\u001b[0m\u001b[1;32m      3\u001b[0m \u001b[0mshow\u001b[0m\u001b[0;34m(\u001b[0m\u001b[0mimg\u001b[0m\u001b[0;34m)\u001b[0m\u001b[0;34m\u001b[0m\u001b[0;34m\u001b[0m\u001b[0m\n\u001b[1;32m      4\u001b[0m \u001b[0;31m#No. of bands\u001b[0m\u001b[0;34m\u001b[0m\u001b[0;34m\u001b[0m\u001b[0;34m\u001b[0m\u001b[0m\n\u001b[1;32m      5\u001b[0m \u001b[0mprint\u001b[0m\u001b[0;34m(\u001b[0m\u001b[0mimg\u001b[0m\u001b[0;34m.\u001b[0m\u001b[0mcount\u001b[0m\u001b[0;34m)\u001b[0m\u001b[0;34m\u001b[0m\u001b[0;34m\u001b[0m\u001b[0m\n",
      "\u001b[0;31mNameError\u001b[0m: name 'rasterio' is not defined"
     ]
    }
   ],
   "source": [
    "fp = r'bounding_box.tiff'\n",
    "img = rasterio.open(fp)\n",
    "show(img)\n",
    "#No. of bands\n",
    "print(img.count)\n",
    "\n",
    "#Image resolution\n",
    "print(img.height, img.width)\n",
    "\n",
    "# CRS\n",
    "print(img.crs)\n",
    "\n",
    "# No-data\n",
    "print(img.nodata)\n",
    "\n",
    "# Raster bands\n",
    "print(img.count)"
   ]
  },
  {
   "cell_type": "code",
   "execution_count": 11,
   "id": "eb0ab0b7",
   "metadata": {},
   "outputs": [
    {
     "data": {
      "image/png": "[encoded data removed]",
      "text/plain": [
       "<Figure size 432x288 with 1 Axes>"
      ]
     },
     "metadata": {
      "needs_background": "light"
     },
     "output_type": "display_data"
    },
    {
     "name": "stdout",
     "output_type": "stream",
     "text": [
      "1\n",
      "4000 4000\n",
      "EPSG:4326\n",
      "255.0\n",
      "1\n"
     ]
    }
   ],
   "source": [
    "fp2 = r'Classifier1_moja.tiff'\n",
    "img2 = rst.open(fp2)\n",
    "show(img2)\n",
    "#No. of bands\n",
    "print(img2.count)\n",
    "\n",
    "#Image resolution\n",
    "print(img2.height, img2.width)\n",
    "\n",
    "# CRS\n",
    "print(img2.crs)\n",
    "\n",
    "# No-data\n",
    "print(img2.nodata)\n",
    "\n",
    "# Raster bands\n",
    "print(img2.count)"
   ]
  },
  {
   "cell_type": "code",
   "execution_count": 12,
   "id": "b2286eaf",
   "metadata": {},
   "outputs": [
    {
     "data": {
      "text/plain": [
       "BoundingBox(left=-106.0, bottom=54.0, right=-105.0, top=55.0)"
      ]
     },
     "execution_count": 12,
     "metadata": {},
     "output_type": "execute_result"
    }
   ],
   "source": [
    "img2.bounds"
   ]
  },
  {
   "cell_type": "code",
   "execution_count": 13,
   "id": "578a0872",
   "metadata": {},
   "outputs": [
    {
     "data": {
      "text/plain": [
       "(1,)"
      ]
     },
     "execution_count": 13,
     "metadata": {},
     "output_type": "execute_result"
    }
   ],
   "source": [
    "img2.indexes"
   ]
  },
  {
   "cell_type": "code",
   "execution_count": 14,
   "id": "6c03fcec",
   "metadata": {},
   "outputs": [],
   "source": [
    "from rasterio.features import dataset_features"
   ]
  },
  {
   "cell_type": "code",
   "execution_count": 15,
   "id": "86bdaf5d",
   "metadata": {},
   "outputs": [
    {
     "data": {
      "text/plain": [
       "[[-105.84875, 54.48625, -105.8485, 54.4865],\n",
       " [-105.84725, 54.47775, -105.83225, 54.48775],\n",
       " [-105.873, 54.47575, -105.84875, 54.48625],\n",
       " [-105.85275, 54.47475, -105.84275, 54.48675],\n",
       " [-105.864, 54.47375, -105.84925, 54.482],\n",
       " [-105.84725, 54.4745, -105.83175, 54.4825],\n",
       " [-105.871, 54.471, -105.85875, 54.47925],\n",
       " [-105.84375, 54.469, -105.82925, 54.48025],\n",
       " [-105.86975, 54.46675, -105.8535, 54.4755],\n",
       " [-105.861, 54.4675, -105.84025, 54.476],\n",
       " [-105.86125, 54.46725, -105.861, 54.4675]]"
      ]
     },
     "execution_count": 15,
     "metadata": {},
     "output_type": "execute_result"
    }
   ],
   "source": [
    "geom_gen = dataset_features(img2, bidx=1)\n",
    "bboxes = [geom['bbox'] for geom in geom_gen]\n",
    "bboxes"
   ]
  },
  {
   "cell_type": "code",
   "execution_count": 16,
   "id": "ff4543a7",
   "metadata": {},
   "outputs": [],
   "source": [
    "left   = min([bbox[0] for bbox in bboxes])\n",
    "bottom = min([bbox[1] for bbox in bboxes])\n",
    "right  = max([bbox[2] for bbox in bboxes])\n",
    "top    = max([bbox[3] for bbox in bboxes])"
   ]
  },
  {
   "cell_type": "code",
   "execution_count": 17,
   "id": "298ee8ca",
   "metadata": {},
   "outputs": [
    {
     "data": {
      "text/plain": [
       "'POLYGON ((-105.82925 54.46675, -105.82925 54.48775, -105.873 54.48775, -105.873 54.46675, -105.82925 54.46675))'"
      ]
     },
     "execution_count": 17,
     "metadata": {},
     "output_type": "execute_result"
    }
   ],
   "source": [
    "from shapely.geometry import box\n",
    "\n",
    "# create a POLYGON geometry for the mask\n",
    "geom = box(left, bottom, right, top)\n",
    "geom.wkt"
   ]
  },
  {
   "cell_type": "code",
   "execution_count": 18,
   "id": "9632acb3",
   "metadata": {},
   "outputs": [],
   "source": [
    "from rasterio.mask import mask\n",
    "out_image, out_transform = mask(img2, [geom], crop=True, pad=True)\n",
    "out_meta = img2.meta"
   ]
  },
  {
   "cell_type": "code",
   "execution_count": 19,
   "id": "bbb8ed9b",
   "metadata": {},
   "outputs": [
    {
     "data": {
      "image/png": "[encoded data removed]",
      "text/plain": [
       "<Figure size 432x288 with 1 Axes>"
      ]
     },
     "metadata": {
      "needs_background": "light"
     },
     "output_type": "display_data"
    },
    {
     "data": {
      "text/plain": [
       "<AxesSubplot:>"
      ]
     },
     "execution_count": 19,
     "metadata": {},
     "output_type": "execute_result"
    }
   ],
   "source": [
    "out_meta.update({\"driver\": \"GTiff\",\n",
    "                 \"height\": out_image.shape[1],\n",
    "                 \"width\": out_image.shape[2],\n",
    "                 \"transform\": out_transform})\n",
    "\n",
    "with rst.open(r'Classifier1_moja_masked.tiff', 'w', **out_meta) as dest:\n",
    "    dest.write(out_image)\n",
    "fp_result = r'Classifier1_moja_masked.tiff'\n",
    "result = rst.open(fp_result)\n",
    "show(result)"
   ]
  },
  {
   "cell_type": "code",
   "execution_count": 41,
   "id": "26c518f7",
   "metadata": {},
   "outputs": [
    {
     "data": {
      "image/png": "[encoded data removed]",
      "text/plain": [
       "<Figure size 432x288 with 1 Axes>"
      ]
     },
     "metadata": {
      "needs_background": "light"
     },
     "output_type": "display_data"
    },
    {
     "name": "stdout",
     "output_type": "stream",
     "text": [
      "1\n",
      "4000 4000\n",
      "EPSG:4326\n",
      "255.0\n",
      "1\n"
     ]
    }
   ],
   "source": [
    "fp3 = r'Classifier1_moja.tiff'\n",
    "img3 = rasterio.open(fp3)\n",
    "show(img3)\n",
    "#No. of bands\n",
    "print(img3.count)\n",
    "\n",
    "#Image resolution\n",
    "print(img3.height, img3.width)\n",
    "\n",
    "# CRS\n",
    "print(img3.crs)\n",
    "\n",
    "# No-data\n",
    "print(img3.nodata)\n",
    "\n",
    "# Raster bands\n",
    "print(img3.count)"
   ]
  },
  {
   "cell_type": "code",
   "execution_count": null,
   "id": "66578add",
   "metadata": {},
   "outputs": [],
   "source": [
    "img3.bounds\n",
    "img3.indexes"
   ]
  },
  {
   "cell_type": "code",
   "execution_count": null,
   "id": "d3983b5c",
   "metadata": {},
   "outputs": [],
   "source": [
    "from rasterio.features import dataset_features\n",
    "geom_gen = dataset_features(img3, bidx=1)\n",
    "bboxes = [geom['bbox'] for geom in geom_gen]\n",
    "bboxes"
   ]
  },
  {
   "cell_type": "code",
   "execution_count": 42,
   "id": "025afc2e",
   "metadata": {},
   "outputs": [
    {
     "data": {
      "image/png": "[encoded data removed]",
      "text/plain": [
       "<Figure size 432x288 with 1 Axes>"
      ]
     },
     "metadata": {
      "needs_background": "light"
     },
     "output_type": "display_data"
    },
    {
     "name": "stdout",
     "output_type": "stream",
     "text": [
      "1\n",
      "4000 4000\n",
      "EPSG:4326\n",
      "255.0\n",
      "1\n"
     ]
    }
   ],
   "source": [
    "fp4 = r'disturbances_2011_moja.tiff'\n",
    "img4 = rasterio.open(fp4)\n",
    "show(img4)\n",
    "#No. of bands\n",
    "print(img4.count)\n",
    "\n",
    "#Image resolution\n",
    "print(img4.height, img4.width)\n",
    "\n",
    "# CRS\n",
    "print(img4.crs)\n",
    "\n",
    "# No-data\n",
    "print(img4.nodata)\n",
    "\n",
    "# Raster bands\n",
    "print(img4.count)"
   ]
  },
  {
   "cell_type": "code",
   "execution_count": 44,
   "id": "01e4c080",
   "metadata": {
    "scrolled": false
   },
   "outputs": [
    {
     "data": {
      "image/png": "[encoded data removed]",
      "text/plain": [
       "<Figure size 432x288 with 1 Axes>"
      ]
     },
     "metadata": {
      "needs_background": "light"
     },
     "output_type": "display_data"
    },
    {
     "name": "stdout",
     "output_type": "stream",
     "text": [
      "1\n",
      "4000 4000\n",
      "EPSG:4326\n",
      "255.0\n",
      "1\n"
     ]
    }
   ],
   "source": [
    "fp5 = r'disturbances_2012_moja.tiff'\n",
    "img5 = rasterio.open(fp5)\n",
    "show(img5)\n",
    "#No. of bands\n",
    "print(img5.count)\n",
    "\n",
    "#Image resolution\n",
    "print(img5.height, img5.width)\n",
    "\n",
    "# CRS\n",
    "print(img5.crs)\n",
    "\n",
    "# No-data\n",
    "print(img5.nodata)\n",
    "\n",
    "# Raster bands\n",
    "print(img5.count)"
   ]
  },
  {
   "cell_type": "code",
   "execution_count": 45,
   "id": "c271b662",
   "metadata": {},
   "outputs": [
    {
     "data": {
      "image/png": "[encoded data removed]",
      "text/plain": [
       "<Figure size 432x288 with 1 Axes>"
      ]
     },
     "metadata": {
      "needs_background": "light"
     },
     "output_type": "display_data"
    },
    {
     "name": "stdout",
     "output_type": "stream",
     "text": [
      "1\n",
      "4000 4000\n",
      "EPSG:4326\n",
      "255.0\n",
      "1\n"
     ]
    }
   ],
   "source": [
    "fp6 = r'disturbances_2013_moja.tiff'\n",
    "img6 = rasterio.open(fp6)\n",
    "show(img6)\n",
    "#No. of bands\n",
    "print(img6.count)\n",
    "\n",
    "#Image resolution\n",
    "print(img6.height, img6.width)\n",
    "\n",
    "# CRS\n",
    "print(img6.crs)\n",
    "\n",
    "# No-data\n",
    "print(img6.nodata)\n",
    "\n",
    "# Raster bands\n",
    "print(img6.count)"
   ]
  },
  {
   "cell_type": "code",
   "execution_count": 46,
   "id": "4e1ed0c7",
   "metadata": {
    "scrolled": true
   },
   "outputs": [
    {
     "data": {
      "image/png": "[encoded data removed]",
      "text/plain": [
       "<Figure size 432x288 with 1 Axes>"
      ]
     },
     "metadata": {
      "needs_background": "light"
     },
     "output_type": "display_data"
    },
    {
     "name": "stdout",
     "output_type": "stream",
     "text": [
      "1\n",
      "4000 4000\n",
      "EPSG:4326\n",
      "255.0\n",
      "1\n"
     ]
    }
   ],
   "source": [
    "fp7 = r'disturbances_2014_moja.tiff'\n",
    "img = rasterio.open(fp7)\n",
    "show(img)\n",
    "#No. of bands\n",
    "print(img.count)\n",
    "\n",
    "#Image resolution\n",
    "print(img.height, img.width)\n",
    "\n",
    "# CRS\n",
    "print(img.crs)\n",
    "\n",
    "# No-data\n",
    "print(img.nodata)\n",
    "\n",
    "# Raster bands\n",
    "print(img.count)"
   ]
  },
  {
   "cell_type": "code",
   "execution_count": 47,
   "id": "a4b1907b",
   "metadata": {},
   "outputs": [
    {
     "data": {
      "image/png": "[encoded data removed]",
      "text/plain": [
       "<Figure size 432x288 with 1 Axes>"
      ]
     },
     "metadata": {
      "needs_background": "light"
     },
     "output_type": "display_data"
    },
    {
     "name": "stdout",
     "output_type": "stream",
     "text": [
      "1\n",
      "4000 4000\n",
      "EPSG:4326\n",
      "255.0\n",
      "1\n"
     ]
    }
   ],
   "source": [
    "fp8 = r'disturbances_2015_moja.tiff'\n",
    "img = rasterio.open(fp8)\n",
    "show(img)\n",
    "#No. of bands\n",
    "print(img.count)\n",
    "\n",
    "#Image resolution\n",
    "print(img.height, img.width)\n",
    "\n",
    "# CRS\n",
    "print(img.crs)\n",
    "\n",
    "# No-data\n",
    "print(img.nodata)\n",
    "\n",
    "# Raster bands\n",
    "print(img.count)"
   ]
  },
  {
   "cell_type": "code",
   "execution_count": 48,
   "id": "5dcdf880",
   "metadata": {},
   "outputs": [
    {
     "data": {
      "image/png": "[encoded data removed]",
      "text/plain": [
       "<Figure size 432x288 with 1 Axes>"
      ]
     },
     "metadata": {
      "needs_background": "light"
     },
     "output_type": "display_data"
    },
    {
     "name": "stdout",
     "output_type": "stream",
     "text": [
      "1\n",
      "4000 4000\n",
      "EPSG:4326\n",
      "255.0\n",
      "1\n"
     ]
    }
   ],
   "source": [
    "fp9 = r'disturbances_2016_moja.tiff'\n",
    "img = rasterio.open(fp9)\n",
    "show(img)\n",
    "#No. of bands\n",
    "print(img.count)\n",
    "\n",
    "#Image resolution\n",
    "print(img.height, img.width)\n",
    "\n",
    "# CRS\n",
    "print(img.crs)\n",
    "\n",
    "# No-data\n",
    "print(img.nodata)\n",
    "\n",
    "# Raster bands\n",
    "print(img.count)"
   ]
  },
  {
   "cell_type": "code",
   "execution_count": 50,
   "id": "7e22ccf8",
   "metadata": {},
   "outputs": [
    {
     "data": {
      "image/png": "[encoded data removed]",
      "text/plain": [
       "<Figure size 432x288 with 1 Axes>"
      ]
     },
     "metadata": {
      "needs_background": "light"
     },
     "output_type": "display_data"
    },
    {
     "name": "stdout",
     "output_type": "stream",
     "text": [
      "1\n",
      "4000 4000\n",
      "EPSG:4326\n",
      "255.0\n",
      "1\n"
     ]
    }
   ],
   "source": [
    "fp10 = r'disturbances_2018_moja.tiff'\n",
    "img = rasterio.open(fp10)\n",
    "show(img)\n",
    "#No. of bands\n",
    "print(img.count)\n",
    "\n",
    "#Image resolution\n",
    "print(img.height, img.width)\n",
    "\n",
    "# CRS\n",
    "print(img.crs)\n",
    "\n",
    "# No-data\n",
    "print(img.nodata)\n",
    "\n",
    "# Raster bands\n",
    "print(img.count)"
   ]
  },
  {
   "cell_type": "code",
   "execution_count": 52,
   "id": "a8b0c09a",
   "metadata": {},
   "outputs": [
    {
     "data": {
      "image/png": "[encoded data removed]",
      "text/plain": [
       "<Figure size 432x288 with 1 Axes>"
      ]
     },
     "metadata": {
      "needs_background": "light"
     },
     "output_type": "display_data"
    },
    {
     "name": "stdout",
     "output_type": "stream",
     "text": [
      "1\n",
      "4000 4000\n",
      "EPSG:4326\n",
      "32767.0\n",
      "1\n"
     ]
    }
   ],
   "source": [
    "fp11 = r'initial_age_moja.tiff'\n",
    "img = rasterio.open(fp11)\n",
    "show(img)\n",
    "#No. of bands\n",
    "print(img.count)\n",
    "\n",
    "#Image resolution\n",
    "print(img.height, img.width)\n",
    "\n",
    "# CRS\n",
    "print(img.crs)\n",
    "\n",
    "# No-data\n",
    "print(img.nodata)\n",
    "\n",
    "# Raster bands\n",
    "print(img.count)"
   ]
  },
  {
   "cell_type": "code",
   "execution_count": 53,
   "id": "bb9cef06",
   "metadata": {},
   "outputs": [
    {
     "data": {
      "image/png": "[encoded data removed]",
      "text/plain": [
       "<Figure size 432x288 with 1 Axes>"
      ]
     },
     "metadata": {
      "needs_background": "light"
     },
     "output_type": "display_data"
    },
    {
     "name": "stdout",
     "output_type": "stream",
     "text": [
      "1\n",
      "4000 4000\n",
      "EPSG:4326\n",
      "3.3999999521443642e+38\n",
      "1\n"
     ]
    }
   ],
   "source": [
    "fp12 = r'mean_annual_temperature_moja.tiff'\n",
    "img = rasterio.open(fp12)\n",
    "show(img)\n",
    "#No. of bands\n",
    "print(img.count)\n",
    "\n",
    "#Image resolution\n",
    "print(img.height, img.width)\n",
    "\n",
    "# CRS\n",
    "print(img.crs)\n",
    "\n",
    "# No-data\n",
    "print(img.nodata)\n",
    "\n",
    "# Raster bands\n",
    "print(img.count)"
   ]
  }
 ],
 "metadata": {
  "kernelspec": {
   "display_name": "Python 3 (ipykernel)",
   "language": "python",
   "name": "python3"
  },
  "language_info": {
   "codemirror_mode": {
    "name": "ipython",
    "version": 3
   },
   "file_extension": ".py",
   "mimetype": "text/x-python",
   "name": "python",
   "nbconvert_exporter": "python",
   "pygments_lexer": "ipython3",
   "version": "3.8.8"
  }
 },
 "nbformat": 4,
 "nbformat_minor": 5
}
