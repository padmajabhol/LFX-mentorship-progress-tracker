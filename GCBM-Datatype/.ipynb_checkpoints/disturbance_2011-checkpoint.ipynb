{
 "cells": [
  {
   "cell_type": "code",
   "execution_count": 1,
   "id": "dd7047cb",
   "metadata": {},
   "outputs": [
    {
     "name": "stdout",
     "output_type": "stream",
     "text": [
      "Requirement already satisfied: matplotlib in /home/padmajabhol/anaconda3/lib/python3.8/site-packages (3.3.4)\n",
      "Requirement already satisfied: pyparsing!=2.0.4,!=2.1.2,!=2.1.6,>=2.0.3 in /home/padmajabhol/anaconda3/lib/python3.8/site-packages (from matplotlib) (2.4.7)\n",
      "Requirement already satisfied: kiwisolver>=1.0.1 in /home/padmajabhol/anaconda3/lib/python3.8/site-packages (from matplotlib) (1.3.1)\n",
      "Requirement already satisfied: python-dateutil>=2.1 in /home/padmajabhol/anaconda3/lib/python3.8/site-packages (from matplotlib) (2.8.1)\n",
      "Requirement already satisfied: pillow>=6.2.0 in /home/padmajabhol/anaconda3/lib/python3.8/site-packages (from matplotlib) (8.2.0)\n",
      "Requirement already satisfied: cycler>=0.10 in /home/padmajabhol/anaconda3/lib/python3.8/site-packages (from matplotlib) (0.10.0)\n",
      "Requirement already satisfied: numpy>=1.15 in /home/padmajabhol/anaconda3/lib/python3.8/site-packages (from matplotlib) (1.20.1)\n",
      "Requirement already satisfied: six in /home/padmajabhol/anaconda3/lib/python3.8/site-packages (from cycler>=0.10->matplotlib) (1.15.0)\n",
      "Note: you may need to restart the kernel to use updated packages.\n"
     ]
    }
   ],
   "source": [
    "pip install matplotlib\n"
   ]
  },
  {
   "cell_type": "code",
   "execution_count": 2,
   "id": "26ccb6c9",
   "metadata": {},
   "outputs": [
    {
     "name": "stdout",
     "output_type": "stream",
     "text": [
      "Requirement already satisfied: Shapely in /home/padmajabhol/anaconda3/lib/python3.8/site-packages (1.8.2)\n",
      "Note: you may need to restart the kernel to use updated packages.\n"
     ]
    }
   ],
   "source": [
    "pip install Shapely"
   ]
  },
  {
   "cell_type": "code",
   "execution_count": 3,
   "id": "783456ec",
   "metadata": {},
   "outputs": [],
   "source": [
    "import rasterio as rst\n",
    "from rasterio.plot import show\n",
    "import matplotlib.pyplot as plt\n",
    "import numpy as np"
   ]
  },
  {
   "cell_type": "code",
   "execution_count": 4,
   "id": "5983400e",
   "metadata": {},
   "outputs": [
    {
     "data": {
      "image/png": "[encoded data removed]",
      "text/plain": [
       "<Figure size 432x288 with 1 Axes>"
      ]
     },
     "metadata": {
      "needs_background": "light"
     },
     "output_type": "display_data"
    },
    {
     "name": "stdout",
     "output_type": "stream",
     "text": [
      "1\n",
      "4000 4000\n",
      "EPSG:4326\n",
      "255.0\n",
      "1\n"
     ]
    }
   ],
   "source": [
    "fp2 = r'disturbances_2011_moja.tiff'\n",
    "img2 = rst.open(fp2)\n",
    "show(img2)\n",
    "#No. of bands\n",
    "print(img2.count)\n",
    "\n",
    "#Image resolution\n",
    "print(img2.height, img2.width)\n",
    "\n",
    "# CRS\n",
    "print(img2.crs)\n",
    "\n",
    "# No-data\n",
    "print(img2.nodata)\n",
    "\n",
    "# Raster bands\n",
    "print(img2.count)"
   ]
  },
  {
   "cell_type": "code",
   "execution_count": 5,
   "id": "e0357165",
   "metadata": {},
   "outputs": [
    {
     "data": {
      "text/plain": [
       "(1,)"
      ]
     },
     "execution_count": 5,
     "metadata": {},
     "output_type": "execute_result"
    }
   ],
   "source": [
    "img2.bounds\n",
    "img2.indexes"
   ]
  },
  {
   "cell_type": "code",
   "execution_count": 6,
   "id": "2aaca601",
   "metadata": {},
   "outputs": [],
   "source": [
    "from rasterio.features import dataset_features"
   ]
  },
  {
   "cell_type": "code",
   "execution_count": 7,
   "id": "7f493c31",
   "metadata": {},
   "outputs": [
    {
     "data": {
      "text/plain": [
       "[[-105.871, 54.471, -105.85875, 54.47925],\n",
       " [-105.84375, 54.469, -105.82925, 54.48025]]"
      ]
     },
     "execution_count": 7,
     "metadata": {},
     "output_type": "execute_result"
    }
   ],
   "source": [
    "geom_gen = dataset_features(img2, bidx=1)\n",
    "bboxes = [geom['bbox'] for geom in geom_gen]\n",
    "bboxes"
   ]
  },
  {
   "cell_type": "code",
   "execution_count": 8,
   "id": "58766457",
   "metadata": {},
   "outputs": [],
   "source": [
    "left   = min([bbox[0] for bbox in bboxes])\n",
    "bottom = min([bbox[1] for bbox in bboxes])\n",
    "right  = max([bbox[2] for bbox in bboxes])\n",
    "top    = max([bbox[3] for bbox in bboxes])"
   ]
  },
  {
   "cell_type": "code",
   "execution_count": 9,
   "id": "a1763c06",
   "metadata": {},
   "outputs": [
    {
     "data": {
      "text/plain": [
       "'POLYGON ((-105.82925 54.469, -105.82925 54.48025, -105.871 54.48025, -105.871 54.469, -105.82925 54.469))'"
      ]
     },
     "execution_count": 9,
     "metadata": {},
     "output_type": "execute_result"
    }
   ],
   "source": [
    "from shapely.geometry import box\n",
    "\n",
    "# create a POLYGON geometry for the mask\n",
    "geom = box(left, bottom, right, top)\n",
    "geom.wkt"
   ]
  },
  {
   "cell_type": "code",
   "execution_count": 10,
   "id": "2dde6207",
   "metadata": {},
   "outputs": [],
   "source": [
    "from rasterio.mask import mask\n",
    "out_image, out_transform = mask(img2, [geom], crop=True, pad=True)\n",
    "out_meta = img2.meta"
   ]
  },
  {
   "cell_type": "code",
   "execution_count": 11,
   "id": "ed99a1d3",
   "metadata": {},
   "outputs": [
    {
     "data": {
      "image/png": "[encoded data removed]",
      "text/plain": [
       "<Figure size 432x288 with 1 Axes>"
      ]
     },
     "metadata": {
      "needs_background": "light"
     },
     "output_type": "display_data"
    },
    {
     "data": {
      "text/plain": [
       "<AxesSubplot:>"
      ]
     },
     "execution_count": 11,
     "metadata": {},
     "output_type": "execute_result"
    }
   ],
   "source": [
    "out_meta.update({\"driver\": \"GTiff\",\n",
    "                 \"height\": out_image.shape[1],\n",
    "                 \"width\": out_image.shape[2],\n",
    "                 \"transform\": out_transform})\n",
    "\n",
    "with rst.open(r'Classifier1_moja_masked.tiff', 'w', **out_meta) as dest:\n",
    "    dest.write(out_image)\n",
    "fp_result = r'Classifier1_moja_masked.tiff'\n",
    "result = rst.open(fp_result)\n",
    "show(result)"
   ]
  }
 ],
 "metadata": {
  "kernelspec": {
   "display_name": "Python 3 (ipykernel)",
   "language": "python",
   "name": "python3"
  },
  "language_info": {
   "codemirror_mode": {
    "name": "ipython",
    "version": 3
   },
   "file_extension": ".py",
   "mimetype": "text/x-python",
   "name": "python",
   "nbconvert_exporter": "python",
   "pygments_lexer": "ipython3",
   "version": "3.8.8"
  }
 },
 "nbformat": 4,
 "nbformat_minor": 5
}
